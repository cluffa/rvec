{
 "cells": [
  {
   "cell_type": "code",
   "execution_count": 1,
   "metadata": {},
   "outputs": [
    {
     "name": "stdout",
     "output_type": "stream",
     "text": [
      "running rvec/__init__.py\n"
     ]
    }
   ],
   "source": [
    "from rvec import RVec, new, c"
   ]
  },
  {
   "cell_type": "code",
   "execution_count": 2,
   "metadata": {},
   "outputs": [
    {
     "data": {
      "text/plain": [
       "VecStorage { data: [1, 2, 3, 4, 5, 1, 2, 3, 4, 5], nrows: Dyn(10), ncols: Const }"
      ]
     },
     "execution_count": 2,
     "metadata": {},
     "output_type": "execute_result"
    }
   ],
   "source": [
    "c([1, 2, 3, 4, 5], (1, 2, 3, 4, 5))"
   ]
  },
  {
   "cell_type": "code",
   "execution_count": 3,
   "metadata": {},
   "outputs": [],
   "source": [
    "x = c(1.1, 2.5, 3.5)\n",
    "y = c(4, 5, 6)"
   ]
  },
  {
   "cell_type": "code",
   "execution_count": 4,
   "metadata": {},
   "outputs": [
    {
     "data": {
      "text/plain": [
       "VecStorage { data: [2.1, 3.5, 4.5], nrows: Dyn(3), ncols: Const }"
      ]
     },
     "execution_count": 4,
     "metadata": {},
     "output_type": "execute_result"
    }
   ],
   "source": [
    "x + 1"
   ]
  },
  {
   "cell_type": "code",
   "execution_count": 5,
   "metadata": {},
   "outputs": [
    {
     "data": {
      "text/plain": [
       "True"
      ]
     },
     "execution_count": 5,
     "metadata": {},
     "output_type": "execute_result"
    }
   ],
   "source": [
    "isinstance(x, RVec)"
   ]
  },
  {
   "cell_type": "code",
   "execution_count": 6,
   "metadata": {},
   "outputs": [
    {
     "name": "stderr",
     "output_type": "stream",
     "text": [
      "thread '<unnamed>' panicked at 'Empty list, cannot determine type', src/lib.rs:72:9\n",
      "note: run with `RUST_BACKTRACE=1` environment variable to display a backtrace\n"
     ]
    },
    {
     "ename": "PanicException",
     "evalue": "Empty list, cannot determine type",
     "output_type": "error",
     "traceback": [
      "\u001b[0;31m---------------------------------------------------------------------------\u001b[0m",
      "\u001b[0;31mPanicException\u001b[0m                            Traceback (most recent call last)",
      "Cell \u001b[0;32mIn[6], line 1\u001b[0m\n\u001b[0;32m----> 1\u001b[0m c(x, y)\n",
      "File \u001b[0;32m~/workspace/rvec/python/rvec/__init__.py:17\u001b[0m, in \u001b[0;36mc\u001b[0;34m(*args)\u001b[0m\n\u001b[1;32m     14\u001b[0m     \u001b[39melse\u001b[39;00m:\n\u001b[1;32m     15\u001b[0m         out\u001b[39m.\u001b[39mappend(arg)\n\u001b[0;32m---> 17\u001b[0m \u001b[39mreturn\u001b[39;00m new(out)\n",
      "\u001b[0;31mPanicException\u001b[0m: Empty list, cannot determine type"
     ]
    }
   ],
   "source": [
    "c(x, y)"
   ]
  },
  {
   "cell_type": "code",
   "execution_count": null,
   "metadata": {},
   "outputs": [
    {
     "ename": "AttributeError",
     "evalue": "'builtins.RVec' object has no attribute 'add'",
     "output_type": "error",
     "traceback": [
      "\u001b[0;31m---------------------------------------------------------------------------\u001b[0m",
      "\u001b[0;31mAttributeError\u001b[0m                            Traceback (most recent call last)",
      "Cell \u001b[0;32mIn[12], line 1\u001b[0m\n\u001b[0;32m----> 1\u001b[0m \u001b[39mprint\u001b[39m(x \u001b[39m+\u001b[39;49m y)\n\u001b[1;32m      2\u001b[0m \u001b[39mprint\u001b[39m(x \u001b[39m-\u001b[39m y)\n",
      "Cell \u001b[0;32mIn[11], line 3\u001b[0m, in \u001b[0;36m__add__\u001b[0;34m(self, other)\u001b[0m\n\u001b[1;32m      2\u001b[0m \u001b[39mdef\u001b[39;00m \u001b[39m__add__\u001b[39m(\u001b[39mself\u001b[39m, other):\n\u001b[0;32m----> 3\u001b[0m     \u001b[39mreturn\u001b[39;00m \u001b[39mself\u001b[39;49m\u001b[39m.\u001b[39;49madd(other)\n",
      "\u001b[0;31mAttributeError\u001b[0m: 'builtins.RVec' object has no attribute 'add'"
     ]
    }
   ],
   "source": [
    "print(x + y)\n",
    "print(x - y)"
   ]
  },
  {
   "cell_type": "code",
   "execution_count": null,
   "metadata": {},
   "outputs": [
    {
     "name": "stdout",
     "output_type": "stream",
     "text": [
      "VecStorage { data: [4.4, 12.5, 21.0], nrows: Dyn(3), ncols: Const }\n",
      "VecStorage { data: [0.275, 0.5, 0.5833333333333334], nrows: Dyn(3), ncols: Const }\n"
     ]
    }
   ],
   "source": [
    "print(x * y)\n",
    "print(x / y)"
   ]
  },
  {
   "cell_type": "code",
   "execution_count": null,
   "metadata": {},
   "outputs": [],
   "source": [
    "z1 = c([\"test\", \"test2\", \"test3\"])\n",
    "z2 = c([\"test\", \"test2\", \"test3\"])"
   ]
  },
  {
   "cell_type": "code",
   "execution_count": null,
   "metadata": {},
   "outputs": [
    {
     "name": "stdout",
     "output_type": "stream",
     "text": [
      "VecStorage { data: [\"testtest\", \"test2test2\", \"test3test3\"], nrows: Dyn(3), ncols: Const }\n",
      "VecStorage { data: [\"testtesttesttest\", \"test2test2test2test2test2\", \"test3test3test3test3test3test3\"], nrows: Dyn(3), ncols: Const }\n"
     ]
    }
   ],
   "source": [
    "print(z1 + z2)\n",
    "print(z1 * y)"
   ]
  },
  {
   "cell_type": "code",
   "execution_count": null,
   "metadata": {},
   "outputs": [],
   "source": []
  }
 ],
 "metadata": {
  "kernelspec": {
   "display_name": ".venv",
   "language": "python",
   "name": "python3"
  },
  "language_info": {
   "codemirror_mode": {
    "name": "ipython",
    "version": 3
   },
   "file_extension": ".py",
   "mimetype": "text/x-python",
   "name": "python",
   "nbconvert_exporter": "python",
   "pygments_lexer": "ipython3",
   "version": "3.10.6"
  },
  "orig_nbformat": 4
 },
 "nbformat": 4,
 "nbformat_minor": 2
}
