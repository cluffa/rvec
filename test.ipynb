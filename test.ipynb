{
 "cells": [
  {
   "cell_type": "code",
   "execution_count": 1,
   "metadata": {},
   "outputs": [
    {
     "name": "stdout",
     "output_type": "stream",
     "text": [
      "running rvec/__init__.py\n"
     ]
    }
   ],
   "source": [
    "from rvec import RVec, new, c"
   ]
  },
  {
   "cell_type": "code",
   "execution_count": 2,
   "metadata": {},
   "outputs": [
    {
     "data": {
      "text/plain": [
       "VecStorage { data: [1, 2, 3, 4, 5, 1, 2, 3, 4, 5], nrows: Dyn(10), ncols: Const }"
      ]
     },
     "execution_count": 2,
     "metadata": {},
     "output_type": "execute_result"
    }
   ],
   "source": [
    "c([1, 2, 3, 4, 5], (1, 2, 3, 4, 5))"
   ]
  },
  {
   "cell_type": "code",
   "execution_count": 5,
   "metadata": {},
   "outputs": [],
   "source": [
    "x = new([1.1, 2.5, 3.5])\n",
    "y = new([4, 5, 6])"
   ]
  },
  {
   "cell_type": "code",
   "execution_count": 6,
   "metadata": {},
   "outputs": [
    {
     "name": "stdout",
     "output_type": "stream",
     "text": [
      "VecStorage { data: [5.1, 7.5, 9.5], nrows: Dyn(3), ncols: Const }\n",
      "VecStorage { data: [-2.9, -2.5, -2.5], nrows: Dyn(3), ncols: Const }\n"
     ]
    }
   ],
   "source": [
    "print(x + y)\n",
    "print(x - y)"
   ]
  },
  {
   "cell_type": "code",
   "execution_count": 7,
   "metadata": {},
   "outputs": [
    {
     "name": "stdout",
     "output_type": "stream",
     "text": [
      "VecStorage { data: [4.4, 12.5, 21.0], nrows: Dyn(3), ncols: Const }\n",
      "VecStorage { data: [0.275, 0.5, 0.5833333333333334], nrows: Dyn(3), ncols: Const }\n"
     ]
    }
   ],
   "source": [
    "print(x * y)\n",
    "print(x / y)"
   ]
  },
  {
   "cell_type": "code",
   "execution_count": 8,
   "metadata": {},
   "outputs": [],
   "source": [
    "z1 = new([\"test\", \"test2\", \"test3\"])\n",
    "z2 = new([\"test\", \"test2\", \"test3\"])"
   ]
  },
  {
   "cell_type": "code",
   "execution_count": 9,
   "metadata": {},
   "outputs": [
    {
     "name": "stdout",
     "output_type": "stream",
     "text": [
      "VecStorage { data: [\"testtest\", \"test2test2\", \"test3test3\"], nrows: Dyn(3), ncols: Const }\n",
      "VecStorage { data: [\"testtesttesttest\", \"test2test2test2test2test2\", \"test3test3test3test3test3test3\"], nrows: Dyn(3), ncols: Const }\n"
     ]
    }
   ],
   "source": [
    "print(z1 + z2)\n",
    "print(z1 * y)"
   ]
  },
  {
   "cell_type": "code",
   "execution_count": null,
   "metadata": {},
   "outputs": [],
   "source": []
  }
 ],
 "metadata": {
  "kernelspec": {
   "display_name": ".venv",
   "language": "python",
   "name": "python3"
  },
  "language_info": {
   "codemirror_mode": {
    "name": "ipython",
    "version": 3
   },
   "file_extension": ".py",
   "mimetype": "text/x-python",
   "name": "python",
   "nbconvert_exporter": "python",
   "pygments_lexer": "ipython3",
   "version": "3.10.6"
  },
  "orig_nbformat": 4
 },
 "nbformat": 4,
 "nbformat_minor": 2
}
